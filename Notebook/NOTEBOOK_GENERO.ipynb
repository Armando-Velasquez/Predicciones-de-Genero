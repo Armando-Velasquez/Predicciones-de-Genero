{
  "nbformat": 4,
  "nbformat_minor": 0,
  "metadata": {
    "colab": {
      "provenance": [],
      "collapsed_sections": [
        "DCRSXrP2z1zO",
        "Abj5SnUREvdR",
        "apC85_x2tNM8",
        "vt07EethnMYe"
      ]
    },
    "kernelspec": {
      "name": "python3",
      "display_name": "Python 3"
    },
    "language_info": {
      "name": "python"
    }
  },
  "cells": [
    {
      "cell_type": "markdown",
      "metadata": {
        "id": "MjU3pWXrRkhA"
      },
      "source": [
        "# **LIBRERIAS**"
      ]
    },
    {
      "cell_type": "markdown",
      "source": [
        "### Directorio"
      ],
      "metadata": {
        "id": "WbIgtNgR6Dv6"
      }
    },
    {
      "cell_type": "code",
      "execution_count": 1,
      "metadata": {
        "id": "fo2uouX-v6QQ"
      },
      "outputs": [],
      "source": [
        "import os               # Gestion de directorios\n",
        "import requests         # Interactuar con rutas de archivos"
      ]
    },
    {
      "cell_type": "markdown",
      "metadata": {
        "id": "2oPgHspJHjMj"
      },
      "source": [
        "### Tratamiento de datos"
      ]
    },
    {
      "cell_type": "code",
      "execution_count": 2,
      "metadata": {
        "id": "Onu3oUpdHlRe"
      },
      "outputs": [],
      "source": [
        "import pandas as pd       # Tratamiento de datos\n",
        "import numpy as np        # Operaciones y arreglos multidimencionales\n",
        "from io import BytesIO    # Tratamiento de datos en bytes"
      ]
    },
    {
      "cell_type": "markdown",
      "metadata": {
        "id": "t1t3ZhKvprSx"
      },
      "source": [
        "### Algoritmos predictivos"
      ]
    },
    {
      "cell_type": "code",
      "execution_count": 3,
      "metadata": {
        "id": "3rT3iu5gpz74"
      },
      "outputs": [],
      "source": [
        "# Entrenamiento\n",
        "from sklearn.preprocessing import StandardScaler\n",
        "from sklearn.model_selection import train_test_split\n",
        "\n",
        "# convertir una colección de documentos de texto en una matriz de recuentos de tokens.\n",
        "from sklearn.feature_extraction.text import CountVectorizer\n",
        "\n",
        "# Clasificación de texto\n",
        "from sklearn.naive_bayes import MultinomialNB\n",
        "\n",
        "# Métrica de evaluación para clasificación\n",
        "from sklearn.metrics import accuracy_score\n",
        "\n",
        "# Support Vector Machine\n",
        "from sklearn.svm import SVC"
      ]
    },
    {
      "cell_type": "code",
      "source": [
        "# Exportacion del modelo\n",
        "import joblib"
      ],
      "metadata": {
        "id": "PnH6PAShlZ0o"
      },
      "execution_count": 4,
      "outputs": []
    },
    {
      "cell_type": "markdown",
      "metadata": {
        "id": "vL_MnRypcY_A"
      },
      "source": [
        "# **ARCHIVOS DE GITHUB**"
      ]
    },
    {
      "cell_type": "markdown",
      "source": [
        "## **Links**"
      ],
      "metadata": {
        "id": "VkzeFGqYwCfD"
      }
    },
    {
      "cell_type": "code",
      "execution_count": 5,
      "metadata": {
        "id": "ci6Xop7LwNTz"
      },
      "outputs": [],
      "source": [
        "# Directorios de github\n",
        "directorio = 'https://raw.githubusercontent.com/JosueAVD27/Predicciones-de-Genero/main/'\n",
        "directorio_data = directorio + 'Data/'"
      ]
    },
    {
      "cell_type": "code",
      "source": [
        "# Matrizes de datos\n",
        "matriz_genero = directorio_data + \"GENERO_NOMBRES.xlsx\"\n",
        "\n",
        "# Datos de prueba\n",
        "matriz_genero_test = directorio_data + 'PREDICCION_GENERO.xlsx'\n",
        "\n",
        "# Modelos entrenados\n",
        "model_genre = directorio + 'GENERO_model.pkl';"
      ],
      "metadata": {
        "id": "szBKM6MfpEs1"
      },
      "execution_count": 6,
      "outputs": []
    },
    {
      "cell_type": "markdown",
      "source": [
        "## **Obtener matrizes**"
      ],
      "metadata": {
        "id": "BPbfadCxwlqH"
      }
    },
    {
      "cell_type": "markdown",
      "source": [
        "### **Matriz de datos**"
      ],
      "metadata": {
        "id": "BmWyj2kFrLkZ"
      }
    },
    {
      "cell_type": "markdown",
      "source": [
        "#### Generos"
      ],
      "metadata": {
        "id": "TSEodZqux-Bp"
      }
    },
    {
      "cell_type": "code",
      "source": [
        "# Realizar una solicitud GET al archivo de Excel en el repositorio\n",
        "response_generos = requests.get(matriz_genero)\n",
        "\n",
        "# Verificar el estado de la respuesta\n",
        "if response_generos.status_code == 200:\n",
        "\n",
        "    # La solicitud fue exitosa, leer el contenido del archivo Excel en un DataFrame de pandas\n",
        "    excel_genero = response_generos.content\n",
        "    df_genero = pd.read_excel(BytesIO(excel_genero))    # ▬▬▬\n",
        "\n",
        "else:\n",
        "    # La solicitud falló, imprimir el código de estado de la respuesta\n",
        "    print(\"Error al obtener el archivo de Excel:\", response_generos.status_code)"
      ],
      "metadata": {
        "id": "3I-fYpXeyY2X"
      },
      "execution_count": 7,
      "outputs": []
    },
    {
      "cell_type": "markdown",
      "source": [
        "### **Datos de prueba**"
      ],
      "metadata": {
        "id": "cTIeUk9qrl50"
      }
    },
    {
      "cell_type": "markdown",
      "source": [
        "#### Genero"
      ],
      "metadata": {
        "id": "fK8U9SkaruoG"
      }
    },
    {
      "cell_type": "code",
      "source": [
        "# Realizar una solicitud GET al archivo de Excel en el repositorio\n",
        "response_generos_test = requests.get(matriz_genero_test)\n",
        "\n",
        "# Verificar el estado de la respuesta\n",
        "if response_generos_test.status_code == 200:\n",
        "\n",
        "    # La solicitud fue exitosa, leer el contenido del archivo Excel en un DataFrame de pandas\n",
        "    excel_genero_test = response_generos_test.content\n",
        "    df_genero_test = pd.read_excel(BytesIO(excel_genero_test))    # ▬▬▬\n",
        "\n",
        "else:\n",
        "    # La solicitud falló, imprimir el código de estado de la respuesta\n",
        "    print(\"Error al obtener el archivo de Excel:\", response_generos_test.status_code)"
      ],
      "metadata": {
        "id": "1nNwpAsvrvml"
      },
      "execution_count": 8,
      "outputs": []
    },
    {
      "cell_type": "markdown",
      "source": [
        "# **1. Tratamiento y limpieza de datos**"
      ],
      "metadata": {
        "id": "VUoiD5psznMv"
      }
    },
    {
      "cell_type": "markdown",
      "source": [
        "## 1.1. **Datos**"
      ],
      "metadata": {
        "id": "DCRSXrP2z1zO"
      }
    },
    {
      "cell_type": "markdown",
      "source": [
        "#### 1.1.1. Matriz de datos"
      ],
      "metadata": {
        "id": "p0EJNz2EsiI3"
      }
    },
    {
      "cell_type": "code",
      "source": [
        "# Obtener matriz de generos\n",
        "df_genero.head()"
      ],
      "metadata": {
        "id": "y48rtSP70K1R",
        "colab": {
          "base_uri": "https://localhost:8080/",
          "height": 206
        },
        "outputId": "cc299026-c46e-44b2-f9b7-e63cc85db6fd"
      },
      "execution_count": 9,
      "outputs": [
        {
          "output_type": "execute_result",
          "data": {
            "text/plain": [
              "                           NOMBRE GENERO\n",
              "0   TAPIA CERVANTES, CARLOS EFREN      H\n",
              "1  RAMIREZ  BOSQUEZ , JOSHUA  RIC      H\n",
              "2  BARRAGAN  INTRIAGO , JONATHAN       H\n",
              "3  MONTESDEOCA POSSO, ERICK ISMAE      H\n",
              "4   ROCOHANO RAMOS, RONNY GONZALO      H"
            ],
            "text/html": [
              "\n",
              "  <div id=\"df-6d82a26c-b031-45e2-a59f-93e1a2c44fb0\" class=\"colab-df-container\">\n",
              "    <div>\n",
              "<style scoped>\n",
              "    .dataframe tbody tr th:only-of-type {\n",
              "        vertical-align: middle;\n",
              "    }\n",
              "\n",
              "    .dataframe tbody tr th {\n",
              "        vertical-align: top;\n",
              "    }\n",
              "\n",
              "    .dataframe thead th {\n",
              "        text-align: right;\n",
              "    }\n",
              "</style>\n",
              "<table border=\"1\" class=\"dataframe\">\n",
              "  <thead>\n",
              "    <tr style=\"text-align: right;\">\n",
              "      <th></th>\n",
              "      <th>NOMBRE</th>\n",
              "      <th>GENERO</th>\n",
              "    </tr>\n",
              "  </thead>\n",
              "  <tbody>\n",
              "    <tr>\n",
              "      <th>0</th>\n",
              "      <td>TAPIA CERVANTES, CARLOS EFREN</td>\n",
              "      <td>H</td>\n",
              "    </tr>\n",
              "    <tr>\n",
              "      <th>1</th>\n",
              "      <td>RAMIREZ  BOSQUEZ , JOSHUA  RIC</td>\n",
              "      <td>H</td>\n",
              "    </tr>\n",
              "    <tr>\n",
              "      <th>2</th>\n",
              "      <td>BARRAGAN  INTRIAGO , JONATHAN</td>\n",
              "      <td>H</td>\n",
              "    </tr>\n",
              "    <tr>\n",
              "      <th>3</th>\n",
              "      <td>MONTESDEOCA POSSO, ERICK ISMAE</td>\n",
              "      <td>H</td>\n",
              "    </tr>\n",
              "    <tr>\n",
              "      <th>4</th>\n",
              "      <td>ROCOHANO RAMOS, RONNY GONZALO</td>\n",
              "      <td>H</td>\n",
              "    </tr>\n",
              "  </tbody>\n",
              "</table>\n",
              "</div>\n",
              "    <div class=\"colab-df-buttons\">\n",
              "\n",
              "  <div class=\"colab-df-container\">\n",
              "    <button class=\"colab-df-convert\" onclick=\"convertToInteractive('df-6d82a26c-b031-45e2-a59f-93e1a2c44fb0')\"\n",
              "            title=\"Convert this dataframe to an interactive table.\"\n",
              "            style=\"display:none;\">\n",
              "\n",
              "  <svg xmlns=\"http://www.w3.org/2000/svg\" height=\"24px\" viewBox=\"0 -960 960 960\">\n",
              "    <path d=\"M120-120v-720h720v720H120Zm60-500h600v-160H180v160Zm220 220h160v-160H400v160Zm0 220h160v-160H400v160ZM180-400h160v-160H180v160Zm440 0h160v-160H620v160ZM180-180h160v-160H180v160Zm440 0h160v-160H620v160Z\"/>\n",
              "  </svg>\n",
              "    </button>\n",
              "\n",
              "  <style>\n",
              "    .colab-df-container {\n",
              "      display:flex;\n",
              "      gap: 12px;\n",
              "    }\n",
              "\n",
              "    .colab-df-convert {\n",
              "      background-color: #E8F0FE;\n",
              "      border: none;\n",
              "      border-radius: 50%;\n",
              "      cursor: pointer;\n",
              "      display: none;\n",
              "      fill: #1967D2;\n",
              "      height: 32px;\n",
              "      padding: 0 0 0 0;\n",
              "      width: 32px;\n",
              "    }\n",
              "\n",
              "    .colab-df-convert:hover {\n",
              "      background-color: #E2EBFA;\n",
              "      box-shadow: 0px 1px 2px rgba(60, 64, 67, 0.3), 0px 1px 3px 1px rgba(60, 64, 67, 0.15);\n",
              "      fill: #174EA6;\n",
              "    }\n",
              "\n",
              "    .colab-df-buttons div {\n",
              "      margin-bottom: 4px;\n",
              "    }\n",
              "\n",
              "    [theme=dark] .colab-df-convert {\n",
              "      background-color: #3B4455;\n",
              "      fill: #D2E3FC;\n",
              "    }\n",
              "\n",
              "    [theme=dark] .colab-df-convert:hover {\n",
              "      background-color: #434B5C;\n",
              "      box-shadow: 0px 1px 3px 1px rgba(0, 0, 0, 0.15);\n",
              "      filter: drop-shadow(0px 1px 2px rgba(0, 0, 0, 0.3));\n",
              "      fill: #FFFFFF;\n",
              "    }\n",
              "  </style>\n",
              "\n",
              "    <script>\n",
              "      const buttonEl =\n",
              "        document.querySelector('#df-6d82a26c-b031-45e2-a59f-93e1a2c44fb0 button.colab-df-convert');\n",
              "      buttonEl.style.display =\n",
              "        google.colab.kernel.accessAllowed ? 'block' : 'none';\n",
              "\n",
              "      async function convertToInteractive(key) {\n",
              "        const element = document.querySelector('#df-6d82a26c-b031-45e2-a59f-93e1a2c44fb0');\n",
              "        const dataTable =\n",
              "          await google.colab.kernel.invokeFunction('convertToInteractive',\n",
              "                                                    [key], {});\n",
              "        if (!dataTable) return;\n",
              "\n",
              "        const docLinkHtml = 'Like what you see? Visit the ' +\n",
              "          '<a target=\"_blank\" href=https://colab.research.google.com/notebooks/data_table.ipynb>data table notebook</a>'\n",
              "          + ' to learn more about interactive tables.';\n",
              "        element.innerHTML = '';\n",
              "        dataTable['output_type'] = 'display_data';\n",
              "        await google.colab.output.renderOutput(dataTable, element);\n",
              "        const docLink = document.createElement('div');\n",
              "        docLink.innerHTML = docLinkHtml;\n",
              "        element.appendChild(docLink);\n",
              "      }\n",
              "    </script>\n",
              "  </div>\n",
              "\n",
              "\n",
              "<div id=\"df-994eeb67-8e08-46d3-b95c-c4f9e20c0378\">\n",
              "  <button class=\"colab-df-quickchart\" onclick=\"quickchart('df-994eeb67-8e08-46d3-b95c-c4f9e20c0378')\"\n",
              "            title=\"Suggest charts\"\n",
              "            style=\"display:none;\">\n",
              "\n",
              "<svg xmlns=\"http://www.w3.org/2000/svg\" height=\"24px\"viewBox=\"0 0 24 24\"\n",
              "     width=\"24px\">\n",
              "    <g>\n",
              "        <path d=\"M19 3H5c-1.1 0-2 .9-2 2v14c0 1.1.9 2 2 2h14c1.1 0 2-.9 2-2V5c0-1.1-.9-2-2-2zM9 17H7v-7h2v7zm4 0h-2V7h2v10zm4 0h-2v-4h2v4z\"/>\n",
              "    </g>\n",
              "</svg>\n",
              "  </button>\n",
              "\n",
              "<style>\n",
              "  .colab-df-quickchart {\n",
              "      --bg-color: #E8F0FE;\n",
              "      --fill-color: #1967D2;\n",
              "      --hover-bg-color: #E2EBFA;\n",
              "      --hover-fill-color: #174EA6;\n",
              "      --disabled-fill-color: #AAA;\n",
              "      --disabled-bg-color: #DDD;\n",
              "  }\n",
              "\n",
              "  [theme=dark] .colab-df-quickchart {\n",
              "      --bg-color: #3B4455;\n",
              "      --fill-color: #D2E3FC;\n",
              "      --hover-bg-color: #434B5C;\n",
              "      --hover-fill-color: #FFFFFF;\n",
              "      --disabled-bg-color: #3B4455;\n",
              "      --disabled-fill-color: #666;\n",
              "  }\n",
              "\n",
              "  .colab-df-quickchart {\n",
              "    background-color: var(--bg-color);\n",
              "    border: none;\n",
              "    border-radius: 50%;\n",
              "    cursor: pointer;\n",
              "    display: none;\n",
              "    fill: var(--fill-color);\n",
              "    height: 32px;\n",
              "    padding: 0;\n",
              "    width: 32px;\n",
              "  }\n",
              "\n",
              "  .colab-df-quickchart:hover {\n",
              "    background-color: var(--hover-bg-color);\n",
              "    box-shadow: 0 1px 2px rgba(60, 64, 67, 0.3), 0 1px 3px 1px rgba(60, 64, 67, 0.15);\n",
              "    fill: var(--button-hover-fill-color);\n",
              "  }\n",
              "\n",
              "  .colab-df-quickchart-complete:disabled,\n",
              "  .colab-df-quickchart-complete:disabled:hover {\n",
              "    background-color: var(--disabled-bg-color);\n",
              "    fill: var(--disabled-fill-color);\n",
              "    box-shadow: none;\n",
              "  }\n",
              "\n",
              "  .colab-df-spinner {\n",
              "    border: 2px solid var(--fill-color);\n",
              "    border-color: transparent;\n",
              "    border-bottom-color: var(--fill-color);\n",
              "    animation:\n",
              "      spin 1s steps(1) infinite;\n",
              "  }\n",
              "\n",
              "  @keyframes spin {\n",
              "    0% {\n",
              "      border-color: transparent;\n",
              "      border-bottom-color: var(--fill-color);\n",
              "      border-left-color: var(--fill-color);\n",
              "    }\n",
              "    20% {\n",
              "      border-color: transparent;\n",
              "      border-left-color: var(--fill-color);\n",
              "      border-top-color: var(--fill-color);\n",
              "    }\n",
              "    30% {\n",
              "      border-color: transparent;\n",
              "      border-left-color: var(--fill-color);\n",
              "      border-top-color: var(--fill-color);\n",
              "      border-right-color: var(--fill-color);\n",
              "    }\n",
              "    40% {\n",
              "      border-color: transparent;\n",
              "      border-right-color: var(--fill-color);\n",
              "      border-top-color: var(--fill-color);\n",
              "    }\n",
              "    60% {\n",
              "      border-color: transparent;\n",
              "      border-right-color: var(--fill-color);\n",
              "    }\n",
              "    80% {\n",
              "      border-color: transparent;\n",
              "      border-right-color: var(--fill-color);\n",
              "      border-bottom-color: var(--fill-color);\n",
              "    }\n",
              "    90% {\n",
              "      border-color: transparent;\n",
              "      border-bottom-color: var(--fill-color);\n",
              "    }\n",
              "  }\n",
              "</style>\n",
              "\n",
              "  <script>\n",
              "    async function quickchart(key) {\n",
              "      const quickchartButtonEl =\n",
              "        document.querySelector('#' + key + ' button');\n",
              "      quickchartButtonEl.disabled = true;  // To prevent multiple clicks.\n",
              "      quickchartButtonEl.classList.add('colab-df-spinner');\n",
              "      try {\n",
              "        const charts = await google.colab.kernel.invokeFunction(\n",
              "            'suggestCharts', [key], {});\n",
              "      } catch (error) {\n",
              "        console.error('Error during call to suggestCharts:', error);\n",
              "      }\n",
              "      quickchartButtonEl.classList.remove('colab-df-spinner');\n",
              "      quickchartButtonEl.classList.add('colab-df-quickchart-complete');\n",
              "    }\n",
              "    (() => {\n",
              "      let quickchartButtonEl =\n",
              "        document.querySelector('#df-994eeb67-8e08-46d3-b95c-c4f9e20c0378 button');\n",
              "      quickchartButtonEl.style.display =\n",
              "        google.colab.kernel.accessAllowed ? 'block' : 'none';\n",
              "    })();\n",
              "  </script>\n",
              "</div>\n",
              "    </div>\n",
              "  </div>\n"
            ],
            "application/vnd.google.colaboratory.intrinsic+json": {
              "type": "dataframe",
              "variable_name": "df_genero",
              "summary": "{\n  \"name\": \"df_genero\",\n  \"rows\": 1584,\n  \"fields\": [\n    {\n      \"column\": \"NOMBRE\",\n      \"properties\": {\n        \"dtype\": \"string\",\n        \"num_unique_values\": 1469,\n        \"samples\": [\n          \"S\\u00c1NCHEZ MORENO, HUGO JAVIER\",\n          \"CASTILLO JUANKA, PAMELA CRISTI\",\n          \"PLATA MURILLO, LUIS ANTONIO\"\n        ],\n        \"semantic_type\": \"\",\n        \"description\": \"\"\n      }\n    },\n    {\n      \"column\": \"GENERO\",\n      \"properties\": {\n        \"dtype\": \"category\",\n        \"num_unique_values\": 2,\n        \"samples\": [\n          \"M\",\n          \"H\"\n        ],\n        \"semantic_type\": \"\",\n        \"description\": \"\"\n      }\n    }\n  ]\n}"
            }
          },
          "metadata": {},
          "execution_count": 9
        }
      ]
    },
    {
      "cell_type": "code",
      "source": [
        "len(df_genero)"
      ],
      "metadata": {
        "colab": {
          "base_uri": "https://localhost:8080/"
        },
        "id": "SquizWjtkyYB",
        "outputId": "efbb822c-b8d3-4bbc-cef1-a125e76a0e8c"
      },
      "execution_count": 10,
      "outputs": [
        {
          "output_type": "execute_result",
          "data": {
            "text/plain": [
              "1584"
            ]
          },
          "metadata": {},
          "execution_count": 10
        }
      ]
    },
    {
      "cell_type": "markdown",
      "source": [
        "#### 1.1.2. Datos test"
      ],
      "metadata": {
        "id": "XuSfRN5ysp0C"
      }
    },
    {
      "cell_type": "code",
      "source": [
        "# Obtener matriz de generos\n",
        "df_genero_test.head()"
      ],
      "metadata": {
        "colab": {
          "base_uri": "https://localhost:8080/",
          "height": 206
        },
        "id": "VkxhuloVszsf",
        "outputId": "6fc22b4d-9465-4915-a0f2-ff5ad30b3346"
      },
      "execution_count": 11,
      "outputs": [
        {
          "output_type": "execute_result",
          "data": {
            "text/plain": [
              "                              NOMBRE  GENERO\n",
              "0     ORDOÑEZ SOLIS, ANDRÉS SANTIAGO     NaN\n",
              "1    VALLEJO ARTEAGA, ELENA CAROLINA     NaN\n",
              "2     GUERRERO LOZADA, MARCO ANTONIO     NaN\n",
              "3      BRAVO ESPINOZA, DANIELA PAOLA     NaN\n",
              "4  SÁNCHEZ MENDOZA, FABIAN ALEJANDRO     NaN"
            ],
            "text/html": [
              "\n",
              "  <div id=\"df-74a79f10-1c1f-4f02-be01-0f289a810955\" class=\"colab-df-container\">\n",
              "    <div>\n",
              "<style scoped>\n",
              "    .dataframe tbody tr th:only-of-type {\n",
              "        vertical-align: middle;\n",
              "    }\n",
              "\n",
              "    .dataframe tbody tr th {\n",
              "        vertical-align: top;\n",
              "    }\n",
              "\n",
              "    .dataframe thead th {\n",
              "        text-align: right;\n",
              "    }\n",
              "</style>\n",
              "<table border=\"1\" class=\"dataframe\">\n",
              "  <thead>\n",
              "    <tr style=\"text-align: right;\">\n",
              "      <th></th>\n",
              "      <th>NOMBRE</th>\n",
              "      <th>GENERO</th>\n",
              "    </tr>\n",
              "  </thead>\n",
              "  <tbody>\n",
              "    <tr>\n",
              "      <th>0</th>\n",
              "      <td>ORDOÑEZ SOLIS, ANDRÉS SANTIAGO</td>\n",
              "      <td>NaN</td>\n",
              "    </tr>\n",
              "    <tr>\n",
              "      <th>1</th>\n",
              "      <td>VALLEJO ARTEAGA, ELENA CAROLINA</td>\n",
              "      <td>NaN</td>\n",
              "    </tr>\n",
              "    <tr>\n",
              "      <th>2</th>\n",
              "      <td>GUERRERO LOZADA, MARCO ANTONIO</td>\n",
              "      <td>NaN</td>\n",
              "    </tr>\n",
              "    <tr>\n",
              "      <th>3</th>\n",
              "      <td>BRAVO ESPINOZA, DANIELA PAOLA</td>\n",
              "      <td>NaN</td>\n",
              "    </tr>\n",
              "    <tr>\n",
              "      <th>4</th>\n",
              "      <td>SÁNCHEZ MENDOZA, FABIAN ALEJANDRO</td>\n",
              "      <td>NaN</td>\n",
              "    </tr>\n",
              "  </tbody>\n",
              "</table>\n",
              "</div>\n",
              "    <div class=\"colab-df-buttons\">\n",
              "\n",
              "  <div class=\"colab-df-container\">\n",
              "    <button class=\"colab-df-convert\" onclick=\"convertToInteractive('df-74a79f10-1c1f-4f02-be01-0f289a810955')\"\n",
              "            title=\"Convert this dataframe to an interactive table.\"\n",
              "            style=\"display:none;\">\n",
              "\n",
              "  <svg xmlns=\"http://www.w3.org/2000/svg\" height=\"24px\" viewBox=\"0 -960 960 960\">\n",
              "    <path d=\"M120-120v-720h720v720H120Zm60-500h600v-160H180v160Zm220 220h160v-160H400v160Zm0 220h160v-160H400v160ZM180-400h160v-160H180v160Zm440 0h160v-160H620v160ZM180-180h160v-160H180v160Zm440 0h160v-160H620v160Z\"/>\n",
              "  </svg>\n",
              "    </button>\n",
              "\n",
              "  <style>\n",
              "    .colab-df-container {\n",
              "      display:flex;\n",
              "      gap: 12px;\n",
              "    }\n",
              "\n",
              "    .colab-df-convert {\n",
              "      background-color: #E8F0FE;\n",
              "      border: none;\n",
              "      border-radius: 50%;\n",
              "      cursor: pointer;\n",
              "      display: none;\n",
              "      fill: #1967D2;\n",
              "      height: 32px;\n",
              "      padding: 0 0 0 0;\n",
              "      width: 32px;\n",
              "    }\n",
              "\n",
              "    .colab-df-convert:hover {\n",
              "      background-color: #E2EBFA;\n",
              "      box-shadow: 0px 1px 2px rgba(60, 64, 67, 0.3), 0px 1px 3px 1px rgba(60, 64, 67, 0.15);\n",
              "      fill: #174EA6;\n",
              "    }\n",
              "\n",
              "    .colab-df-buttons div {\n",
              "      margin-bottom: 4px;\n",
              "    }\n",
              "\n",
              "    [theme=dark] .colab-df-convert {\n",
              "      background-color: #3B4455;\n",
              "      fill: #D2E3FC;\n",
              "    }\n",
              "\n",
              "    [theme=dark] .colab-df-convert:hover {\n",
              "      background-color: #434B5C;\n",
              "      box-shadow: 0px 1px 3px 1px rgba(0, 0, 0, 0.15);\n",
              "      filter: drop-shadow(0px 1px 2px rgba(0, 0, 0, 0.3));\n",
              "      fill: #FFFFFF;\n",
              "    }\n",
              "  </style>\n",
              "\n",
              "    <script>\n",
              "      const buttonEl =\n",
              "        document.querySelector('#df-74a79f10-1c1f-4f02-be01-0f289a810955 button.colab-df-convert');\n",
              "      buttonEl.style.display =\n",
              "        google.colab.kernel.accessAllowed ? 'block' : 'none';\n",
              "\n",
              "      async function convertToInteractive(key) {\n",
              "        const element = document.querySelector('#df-74a79f10-1c1f-4f02-be01-0f289a810955');\n",
              "        const dataTable =\n",
              "          await google.colab.kernel.invokeFunction('convertToInteractive',\n",
              "                                                    [key], {});\n",
              "        if (!dataTable) return;\n",
              "\n",
              "        const docLinkHtml = 'Like what you see? Visit the ' +\n",
              "          '<a target=\"_blank\" href=https://colab.research.google.com/notebooks/data_table.ipynb>data table notebook</a>'\n",
              "          + ' to learn more about interactive tables.';\n",
              "        element.innerHTML = '';\n",
              "        dataTable['output_type'] = 'display_data';\n",
              "        await google.colab.output.renderOutput(dataTable, element);\n",
              "        const docLink = document.createElement('div');\n",
              "        docLink.innerHTML = docLinkHtml;\n",
              "        element.appendChild(docLink);\n",
              "      }\n",
              "    </script>\n",
              "  </div>\n",
              "\n",
              "\n",
              "<div id=\"df-1432dc81-9ac5-4550-b385-f5d4c223954f\">\n",
              "  <button class=\"colab-df-quickchart\" onclick=\"quickchart('df-1432dc81-9ac5-4550-b385-f5d4c223954f')\"\n",
              "            title=\"Suggest charts\"\n",
              "            style=\"display:none;\">\n",
              "\n",
              "<svg xmlns=\"http://www.w3.org/2000/svg\" height=\"24px\"viewBox=\"0 0 24 24\"\n",
              "     width=\"24px\">\n",
              "    <g>\n",
              "        <path d=\"M19 3H5c-1.1 0-2 .9-2 2v14c0 1.1.9 2 2 2h14c1.1 0 2-.9 2-2V5c0-1.1-.9-2-2-2zM9 17H7v-7h2v7zm4 0h-2V7h2v10zm4 0h-2v-4h2v4z\"/>\n",
              "    </g>\n",
              "</svg>\n",
              "  </button>\n",
              "\n",
              "<style>\n",
              "  .colab-df-quickchart {\n",
              "      --bg-color: #E8F0FE;\n",
              "      --fill-color: #1967D2;\n",
              "      --hover-bg-color: #E2EBFA;\n",
              "      --hover-fill-color: #174EA6;\n",
              "      --disabled-fill-color: #AAA;\n",
              "      --disabled-bg-color: #DDD;\n",
              "  }\n",
              "\n",
              "  [theme=dark] .colab-df-quickchart {\n",
              "      --bg-color: #3B4455;\n",
              "      --fill-color: #D2E3FC;\n",
              "      --hover-bg-color: #434B5C;\n",
              "      --hover-fill-color: #FFFFFF;\n",
              "      --disabled-bg-color: #3B4455;\n",
              "      --disabled-fill-color: #666;\n",
              "  }\n",
              "\n",
              "  .colab-df-quickchart {\n",
              "    background-color: var(--bg-color);\n",
              "    border: none;\n",
              "    border-radius: 50%;\n",
              "    cursor: pointer;\n",
              "    display: none;\n",
              "    fill: var(--fill-color);\n",
              "    height: 32px;\n",
              "    padding: 0;\n",
              "    width: 32px;\n",
              "  }\n",
              "\n",
              "  .colab-df-quickchart:hover {\n",
              "    background-color: var(--hover-bg-color);\n",
              "    box-shadow: 0 1px 2px rgba(60, 64, 67, 0.3), 0 1px 3px 1px rgba(60, 64, 67, 0.15);\n",
              "    fill: var(--button-hover-fill-color);\n",
              "  }\n",
              "\n",
              "  .colab-df-quickchart-complete:disabled,\n",
              "  .colab-df-quickchart-complete:disabled:hover {\n",
              "    background-color: var(--disabled-bg-color);\n",
              "    fill: var(--disabled-fill-color);\n",
              "    box-shadow: none;\n",
              "  }\n",
              "\n",
              "  .colab-df-spinner {\n",
              "    border: 2px solid var(--fill-color);\n",
              "    border-color: transparent;\n",
              "    border-bottom-color: var(--fill-color);\n",
              "    animation:\n",
              "      spin 1s steps(1) infinite;\n",
              "  }\n",
              "\n",
              "  @keyframes spin {\n",
              "    0% {\n",
              "      border-color: transparent;\n",
              "      border-bottom-color: var(--fill-color);\n",
              "      border-left-color: var(--fill-color);\n",
              "    }\n",
              "    20% {\n",
              "      border-color: transparent;\n",
              "      border-left-color: var(--fill-color);\n",
              "      border-top-color: var(--fill-color);\n",
              "    }\n",
              "    30% {\n",
              "      border-color: transparent;\n",
              "      border-left-color: var(--fill-color);\n",
              "      border-top-color: var(--fill-color);\n",
              "      border-right-color: var(--fill-color);\n",
              "    }\n",
              "    40% {\n",
              "      border-color: transparent;\n",
              "      border-right-color: var(--fill-color);\n",
              "      border-top-color: var(--fill-color);\n",
              "    }\n",
              "    60% {\n",
              "      border-color: transparent;\n",
              "      border-right-color: var(--fill-color);\n",
              "    }\n",
              "    80% {\n",
              "      border-color: transparent;\n",
              "      border-right-color: var(--fill-color);\n",
              "      border-bottom-color: var(--fill-color);\n",
              "    }\n",
              "    90% {\n",
              "      border-color: transparent;\n",
              "      border-bottom-color: var(--fill-color);\n",
              "    }\n",
              "  }\n",
              "</style>\n",
              "\n",
              "  <script>\n",
              "    async function quickchart(key) {\n",
              "      const quickchartButtonEl =\n",
              "        document.querySelector('#' + key + ' button');\n",
              "      quickchartButtonEl.disabled = true;  // To prevent multiple clicks.\n",
              "      quickchartButtonEl.classList.add('colab-df-spinner');\n",
              "      try {\n",
              "        const charts = await google.colab.kernel.invokeFunction(\n",
              "            'suggestCharts', [key], {});\n",
              "      } catch (error) {\n",
              "        console.error('Error during call to suggestCharts:', error);\n",
              "      }\n",
              "      quickchartButtonEl.classList.remove('colab-df-spinner');\n",
              "      quickchartButtonEl.classList.add('colab-df-quickchart-complete');\n",
              "    }\n",
              "    (() => {\n",
              "      let quickchartButtonEl =\n",
              "        document.querySelector('#df-1432dc81-9ac5-4550-b385-f5d4c223954f button');\n",
              "      quickchartButtonEl.style.display =\n",
              "        google.colab.kernel.accessAllowed ? 'block' : 'none';\n",
              "    })();\n",
              "  </script>\n",
              "</div>\n",
              "    </div>\n",
              "  </div>\n"
            ],
            "application/vnd.google.colaboratory.intrinsic+json": {
              "type": "dataframe",
              "variable_name": "df_genero_test",
              "summary": "{\n  \"name\": \"df_genero_test\",\n  \"rows\": 10,\n  \"fields\": [\n    {\n      \"column\": \"NOMBRE\",\n      \"properties\": {\n        \"dtype\": \"string\",\n        \"num_unique_values\": 10,\n        \"samples\": [\n          \"VERA ZAMBRANO, CARLOS ANDR\\u00c9S\",\n          \"VALLEJO ARTEAGA, ELENA CAROLINA\",\n          \"RAMIREZ VILLACIS, SOFIA ALEJANDRA\"\n        ],\n        \"semantic_type\": \"\",\n        \"description\": \"\"\n      }\n    },\n    {\n      \"column\": \"GENERO\",\n      \"properties\": {\n        \"dtype\": \"number\",\n        \"std\": null,\n        \"min\": null,\n        \"max\": null,\n        \"num_unique_values\": 0,\n        \"samples\": [],\n        \"semantic_type\": \"\",\n        \"description\": \"\"\n      }\n    }\n  ]\n}"
            }
          },
          "metadata": {},
          "execution_count": 11
        }
      ]
    },
    {
      "cell_type": "markdown",
      "source": [
        "## 1.2. **Predicción Genero**"
      ],
      "metadata": {
        "id": "FwY1iB0o7TVT"
      }
    },
    {
      "cell_type": "markdown",
      "source": [
        "### 1.2.1. **Entrenamiento**"
      ],
      "metadata": {
        "id": "YYrWfTvvtCRi"
      }
    },
    {
      "cell_type": "markdown",
      "source": [
        "#### Naive Bayes multinomial"
      ],
      "metadata": {
        "id": "D0TkyliYkCuT"
      }
    },
    {
      "cell_type": "code",
      "source": [
        "# Naive Bayes multinomial\n",
        "dataframe_genero = df_genero.copy()\n",
        "\n",
        "# Preprocesamiento de datos\n",
        "dataframe_genero[['Apellidos', 'Nombres']] = dataframe_genero['NOMBRE'].str.split(pat=',', n=1, expand=True)\n",
        "dataframe_genero['GENERO'] = dataframe_genero['GENERO'].map({'H': 1, 'M': 0})\n",
        "\n",
        "# Agregar variantes de nombres\n",
        "dataframe_genero['Nombres'] = dataframe_genero['Nombres'] + ' ' + dataframe_genero['Apellidos']\n",
        "dataframe_genero['Nombres_invertidos'] = dataframe_genero['Apellidos'] + ' ' + dataframe_genero['Nombres']\n",
        "\n",
        "# Unir los nombres y las variantes\n",
        "nombres = dataframe_genero['Nombres'] + ' ' + dataframe_genero['Nombres_invertidos']\n",
        "\n",
        "# Extracción de características\n",
        "vectorizer = CountVectorizer(analyzer='char', ngram_range=(2, 3))\n",
        "X = vectorizer.fit_transform(nombres)\n",
        "y = dataframe_genero['GENERO']\n",
        "\n",
        "# Dividir los datos en entrenamiento y prueba\n",
        "X_train, X_test, y_train, y_test = train_test_split(X, y, test_size=0.2, random_state=42)\n",
        "\n",
        "# Entrenamiento del modelo\n",
        "model = MultinomialNB()\n",
        "model.fit(X_train, y_train)\n",
        "\n",
        "# Predicción\n",
        "y_pred = model.predict(X_test)\n",
        "\n",
        "# Evaluación del modelo\n",
        "accuracy = accuracy_score(y_test, y_pred)\n",
        "print(\"Precisión del modelo: {:.2f}%\".format(accuracy * 100))"
      ],
      "metadata": {
        "colab": {
          "base_uri": "https://localhost:8080/"
        },
        "id": "X2-ZYv217d_D",
        "outputId": "7f2972b3-b687-4659-bce1-94599d3ff983"
      },
      "execution_count": 12,
      "outputs": [
        {
          "output_type": "stream",
          "name": "stdout",
          "text": [
            "Precisión del modelo: 91.48%\n"
          ]
        }
      ]
    },
    {
      "cell_type": "code",
      "source": [
        "# Guardar el modelo entrenado y el CountVectorizer en un solo archivo pickle\n",
        "joblib.dump((model, vectorizer), './modelo_genero.pkl')"
      ],
      "metadata": {
        "colab": {
          "base_uri": "https://localhost:8080/"
        },
        "id": "sBI6OlewkedO",
        "outputId": "d07592f8-4216-44c7-9839-a044429618da"
      },
      "execution_count": 13,
      "outputs": [
        {
          "output_type": "execute_result",
          "data": {
            "text/plain": [
              "['./modelo_genero.pkl']"
            ]
          },
          "metadata": {},
          "execution_count": 13
        }
      ]
    },
    {
      "cell_type": "markdown",
      "source": [
        "#### ERROR SVM no paso los test de prueba"
      ],
      "metadata": {
        "id": "Abj5SnUREvdR"
      }
    },
    {
      "cell_type": "code",
      "source": [
        "from sklearn.impute import SimpleImputer\n",
        "\n",
        "dataframe_genero = df_genero.copy()\n",
        "\n",
        "# Preprocesamiento de datos\n",
        "dataframe_genero[['Apellidos', 'Nombres']] = dataframe_genero['NOMBRE'].str.split(pat=',', n=1, expand=True)\n",
        "dataframe_genero['GENERO'] = dataframe_genero['GENERO'].map({'H': 1, 'M': 0})\n",
        "\n",
        "# Agregar variantes de nombres\n",
        "dataframe_genero['Nombres'] = dataframe_genero['Nombres'] + ' ' + dataframe_genero['Apellidos']\n",
        "dataframe_genero['Nombres_invertidos'] = dataframe_genero['Apellidos'] + ' ' + dataframe_genero['Nombres']\n",
        "\n",
        "# Unir los nombres y las variantes\n",
        "nombres = dataframe_genero['Nombres'] + ' ' + dataframe_genero['Nombres_invertidos']\n",
        "\n",
        "# Extracción de características\n",
        "svm_vectorizer = CountVectorizer(analyzer='char', ngram_range=(2, 3))\n",
        "X = svm_vectorizer.fit_transform(nombres)\n",
        "y = dataframe_genero['GENERO']\n",
        "\n",
        "# Dividir los datos en entrenamiento y prueba\n",
        "X_train, X_test, y_train, y_test = train_test_split(X, y, test_size=0.2, random_state=42)\n",
        "\n",
        "# Manejar los valores faltantes en y_train\n",
        "imputer = SimpleImputer(strategy='most_frequent')\n",
        "y_train_imputed = imputer.fit_transform(y_train.values.reshape(-1, 1)).ravel()\n",
        "\n",
        "# Entrenamiento del modelo SVM\n",
        "svm_model = SVC(kernel='linear', random_state=42)\n",
        "svm_model.fit(X_train, y_train_imputed)\n",
        "\n",
        "# Predicción\n",
        "y_pred = svm_model.predict(X_test)\n",
        "\n",
        "# Evaluación del modelo\n",
        "accuracy = accuracy_score(y_test, y_pred)\n",
        "print(\"Precisión del modelo SVM: {:.2f}%\".format(accuracy * 100))\n"
      ],
      "metadata": {
        "colab": {
          "base_uri": "https://localhost:8080/"
        },
        "id": "1L22XnDE7hQ2",
        "outputId": "7b6ad7bb-3864-4ba2-e448-6100620b3b8e"
      },
      "execution_count": 14,
      "outputs": [
        {
          "output_type": "stream",
          "name": "stdout",
          "text": [
            "Precisión del modelo SVM: 90.22%\n"
          ]
        }
      ]
    },
    {
      "cell_type": "markdown",
      "source": [
        "### 1.2.2. **Pruebas Naive Bayes multinomial**"
      ],
      "metadata": {
        "id": "apC85_x2tNM8"
      }
    },
    {
      "cell_type": "code",
      "source": [
        "# Ejemplo de predicción\n",
        "nuevo_nombre = ['Velasquez Mora, MARON OMAR']\n",
        "\n",
        "# Preprocesamiento del nuevo nombre\n",
        "nuevo_nombre_df = pd.DataFrame({'NOMBRE': nuevo_nombre})\n",
        "nuevo_nombre_df[['Apellidos', 'Nombres']] = nuevo_nombre_df['NOMBRE'].str.split(pat=',', n=1, expand=True)\n",
        "\n",
        "# Extracción de características del nuevo nombre\n",
        "X_nuevo = vectorizer.transform(nuevo_nombre_df['Nombres'])\n",
        "\n",
        "# Hacer la predicción\n",
        "prediccion = model.predict(X_nuevo)\n",
        "\n",
        "# Imprimir la predicción\n",
        "genero_predicho = 'Hombre' if prediccion[0] == 1 else 'Mujer'\n",
        "print(f\"El nombre '{nuevo_nombre[0]}' se predice como {genero_predicho}.\")"
      ],
      "metadata": {
        "colab": {
          "base_uri": "https://localhost:8080/"
        },
        "id": "gDWmmNczBIuh",
        "outputId": "864e1c0a-a01e-471a-ddec-ee97af8a73c7"
      },
      "execution_count": 15,
      "outputs": [
        {
          "output_type": "stream",
          "name": "stdout",
          "text": [
            "El nombre 'Velasquez Mora, MARON OMAR' se predice como Hombre.\n"
          ]
        }
      ]
    },
    {
      "cell_type": "code",
      "source": [
        "# Obtener matriz de generos\n",
        "df_nuevo_genero_test = df_genero_test.copy()\n",
        "\n",
        "# Preprocesar los nombres en la matriz de prueba\n",
        "df_nuevo_genero_test[['Apellidos', 'Nombres']] = df_nuevo_genero_test['NOMBRE'].str.split(pat=',', n=1, expand=True)\n",
        "\n",
        "# Extraer características de los nombres\n",
        "X_test = vectorizer.transform(df_nuevo_genero_test['Nombres'])\n",
        "\n",
        "# Realizar predicciones utilizando el modelo entrenado\n",
        "y_pred_test = model.predict(X_test)\n",
        "\n",
        "# Asignar las predicciones de género a la columna 'GENERO' en la matriz de prueba\n",
        "df_nuevo_genero_test['GENERO'] = ['H' if pred == 1 else 'M' for pred in y_pred_test]"
      ],
      "metadata": {
        "id": "lTsj3QNnuERD"
      },
      "execution_count": 16,
      "outputs": []
    },
    {
      "cell_type": "code",
      "source": [
        "# Mostrar la matriz con las predicciones de género\n",
        "df_nuevo_genero_test"
      ],
      "metadata": {
        "colab": {
          "base_uri": "https://localhost:8080/",
          "height": 0
        },
        "id": "Erxsf3rhvB9H",
        "outputId": "ba967024-a6c2-4f91-d331-821d702ccd38"
      },
      "execution_count": 17,
      "outputs": [
        {
          "output_type": "execute_result",
          "data": {
            "text/plain": [
              "                              NOMBRE GENERO         Apellidos  \\\n",
              "0     ORDOÑEZ SOLIS, ANDRÉS SANTIAGO      H     ORDOÑEZ SOLIS   \n",
              "1    VALLEJO ARTEAGA, ELENA CAROLINA      M   VALLEJO ARTEAGA   \n",
              "2     GUERRERO LOZADA, MARCO ANTONIO      H   GUERRERO LOZADA   \n",
              "3      BRAVO ESPINOZA, DANIELA PAOLA      M    BRAVO ESPINOZA   \n",
              "4  SÁNCHEZ MENDOZA, FABIAN ALEJANDRO      H   SÁNCHEZ MENDOZA   \n",
              "5  RAMIREZ VILLACIS, SOFIA ALEJANDRA      M  RAMIREZ VILLACIS   \n",
              "6         MORENO AGUILAR, JORGE LUIS      H    MORENO AGUILAR   \n",
              "7  JIMENEZ CARRIÓN, CLAUDIA PATRICIA      M   JIMENEZ CARRIÓN   \n",
              "8       VERA ZAMBRANO, CARLOS ANDRÉS      H     VERA ZAMBRANO   \n",
              "9      TORRES PONCE, LUCIA MARGARITA      M      TORRES PONCE   \n",
              "\n",
              "             Nombres  \n",
              "0    ANDRÉS SANTIAGO  \n",
              "1     ELENA CAROLINA  \n",
              "2      MARCO ANTONIO  \n",
              "3      DANIELA PAOLA  \n",
              "4   FABIAN ALEJANDRO  \n",
              "5    SOFIA ALEJANDRA  \n",
              "6         JORGE LUIS  \n",
              "7   CLAUDIA PATRICIA  \n",
              "8      CARLOS ANDRÉS  \n",
              "9    LUCIA MARGARITA  "
            ],
            "text/html": [
              "\n",
              "  <div id=\"df-112c52ec-e4cf-414c-bf05-b29b4e87b2f2\" class=\"colab-df-container\">\n",
              "    <div>\n",
              "<style scoped>\n",
              "    .dataframe tbody tr th:only-of-type {\n",
              "        vertical-align: middle;\n",
              "    }\n",
              "\n",
              "    .dataframe tbody tr th {\n",
              "        vertical-align: top;\n",
              "    }\n",
              "\n",
              "    .dataframe thead th {\n",
              "        text-align: right;\n",
              "    }\n",
              "</style>\n",
              "<table border=\"1\" class=\"dataframe\">\n",
              "  <thead>\n",
              "    <tr style=\"text-align: right;\">\n",
              "      <th></th>\n",
              "      <th>NOMBRE</th>\n",
              "      <th>GENERO</th>\n",
              "      <th>Apellidos</th>\n",
              "      <th>Nombres</th>\n",
              "    </tr>\n",
              "  </thead>\n",
              "  <tbody>\n",
              "    <tr>\n",
              "      <th>0</th>\n",
              "      <td>ORDOÑEZ SOLIS, ANDRÉS SANTIAGO</td>\n",
              "      <td>H</td>\n",
              "      <td>ORDOÑEZ SOLIS</td>\n",
              "      <td>ANDRÉS SANTIAGO</td>\n",
              "    </tr>\n",
              "    <tr>\n",
              "      <th>1</th>\n",
              "      <td>VALLEJO ARTEAGA, ELENA CAROLINA</td>\n",
              "      <td>M</td>\n",
              "      <td>VALLEJO ARTEAGA</td>\n",
              "      <td>ELENA CAROLINA</td>\n",
              "    </tr>\n",
              "    <tr>\n",
              "      <th>2</th>\n",
              "      <td>GUERRERO LOZADA, MARCO ANTONIO</td>\n",
              "      <td>H</td>\n",
              "      <td>GUERRERO LOZADA</td>\n",
              "      <td>MARCO ANTONIO</td>\n",
              "    </tr>\n",
              "    <tr>\n",
              "      <th>3</th>\n",
              "      <td>BRAVO ESPINOZA, DANIELA PAOLA</td>\n",
              "      <td>M</td>\n",
              "      <td>BRAVO ESPINOZA</td>\n",
              "      <td>DANIELA PAOLA</td>\n",
              "    </tr>\n",
              "    <tr>\n",
              "      <th>4</th>\n",
              "      <td>SÁNCHEZ MENDOZA, FABIAN ALEJANDRO</td>\n",
              "      <td>H</td>\n",
              "      <td>SÁNCHEZ MENDOZA</td>\n",
              "      <td>FABIAN ALEJANDRO</td>\n",
              "    </tr>\n",
              "    <tr>\n",
              "      <th>5</th>\n",
              "      <td>RAMIREZ VILLACIS, SOFIA ALEJANDRA</td>\n",
              "      <td>M</td>\n",
              "      <td>RAMIREZ VILLACIS</td>\n",
              "      <td>SOFIA ALEJANDRA</td>\n",
              "    </tr>\n",
              "    <tr>\n",
              "      <th>6</th>\n",
              "      <td>MORENO AGUILAR, JORGE LUIS</td>\n",
              "      <td>H</td>\n",
              "      <td>MORENO AGUILAR</td>\n",
              "      <td>JORGE LUIS</td>\n",
              "    </tr>\n",
              "    <tr>\n",
              "      <th>7</th>\n",
              "      <td>JIMENEZ CARRIÓN, CLAUDIA PATRICIA</td>\n",
              "      <td>M</td>\n",
              "      <td>JIMENEZ CARRIÓN</td>\n",
              "      <td>CLAUDIA PATRICIA</td>\n",
              "    </tr>\n",
              "    <tr>\n",
              "      <th>8</th>\n",
              "      <td>VERA ZAMBRANO, CARLOS ANDRÉS</td>\n",
              "      <td>H</td>\n",
              "      <td>VERA ZAMBRANO</td>\n",
              "      <td>CARLOS ANDRÉS</td>\n",
              "    </tr>\n",
              "    <tr>\n",
              "      <th>9</th>\n",
              "      <td>TORRES PONCE, LUCIA MARGARITA</td>\n",
              "      <td>M</td>\n",
              "      <td>TORRES PONCE</td>\n",
              "      <td>LUCIA MARGARITA</td>\n",
              "    </tr>\n",
              "  </tbody>\n",
              "</table>\n",
              "</div>\n",
              "    <div class=\"colab-df-buttons\">\n",
              "\n",
              "  <div class=\"colab-df-container\">\n",
              "    <button class=\"colab-df-convert\" onclick=\"convertToInteractive('df-112c52ec-e4cf-414c-bf05-b29b4e87b2f2')\"\n",
              "            title=\"Convert this dataframe to an interactive table.\"\n",
              "            style=\"display:none;\">\n",
              "\n",
              "  <svg xmlns=\"http://www.w3.org/2000/svg\" height=\"24px\" viewBox=\"0 -960 960 960\">\n",
              "    <path d=\"M120-120v-720h720v720H120Zm60-500h600v-160H180v160Zm220 220h160v-160H400v160Zm0 220h160v-160H400v160ZM180-400h160v-160H180v160Zm440 0h160v-160H620v160ZM180-180h160v-160H180v160Zm440 0h160v-160H620v160Z\"/>\n",
              "  </svg>\n",
              "    </button>\n",
              "\n",
              "  <style>\n",
              "    .colab-df-container {\n",
              "      display:flex;\n",
              "      gap: 12px;\n",
              "    }\n",
              "\n",
              "    .colab-df-convert {\n",
              "      background-color: #E8F0FE;\n",
              "      border: none;\n",
              "      border-radius: 50%;\n",
              "      cursor: pointer;\n",
              "      display: none;\n",
              "      fill: #1967D2;\n",
              "      height: 32px;\n",
              "      padding: 0 0 0 0;\n",
              "      width: 32px;\n",
              "    }\n",
              "\n",
              "    .colab-df-convert:hover {\n",
              "      background-color: #E2EBFA;\n",
              "      box-shadow: 0px 1px 2px rgba(60, 64, 67, 0.3), 0px 1px 3px 1px rgba(60, 64, 67, 0.15);\n",
              "      fill: #174EA6;\n",
              "    }\n",
              "\n",
              "    .colab-df-buttons div {\n",
              "      margin-bottom: 4px;\n",
              "    }\n",
              "\n",
              "    [theme=dark] .colab-df-convert {\n",
              "      background-color: #3B4455;\n",
              "      fill: #D2E3FC;\n",
              "    }\n",
              "\n",
              "    [theme=dark] .colab-df-convert:hover {\n",
              "      background-color: #434B5C;\n",
              "      box-shadow: 0px 1px 3px 1px rgba(0, 0, 0, 0.15);\n",
              "      filter: drop-shadow(0px 1px 2px rgba(0, 0, 0, 0.3));\n",
              "      fill: #FFFFFF;\n",
              "    }\n",
              "  </style>\n",
              "\n",
              "    <script>\n",
              "      const buttonEl =\n",
              "        document.querySelector('#df-112c52ec-e4cf-414c-bf05-b29b4e87b2f2 button.colab-df-convert');\n",
              "      buttonEl.style.display =\n",
              "        google.colab.kernel.accessAllowed ? 'block' : 'none';\n",
              "\n",
              "      async function convertToInteractive(key) {\n",
              "        const element = document.querySelector('#df-112c52ec-e4cf-414c-bf05-b29b4e87b2f2');\n",
              "        const dataTable =\n",
              "          await google.colab.kernel.invokeFunction('convertToInteractive',\n",
              "                                                    [key], {});\n",
              "        if (!dataTable) return;\n",
              "\n",
              "        const docLinkHtml = 'Like what you see? Visit the ' +\n",
              "          '<a target=\"_blank\" href=https://colab.research.google.com/notebooks/data_table.ipynb>data table notebook</a>'\n",
              "          + ' to learn more about interactive tables.';\n",
              "        element.innerHTML = '';\n",
              "        dataTable['output_type'] = 'display_data';\n",
              "        await google.colab.output.renderOutput(dataTable, element);\n",
              "        const docLink = document.createElement('div');\n",
              "        docLink.innerHTML = docLinkHtml;\n",
              "        element.appendChild(docLink);\n",
              "      }\n",
              "    </script>\n",
              "  </div>\n",
              "\n",
              "\n",
              "<div id=\"df-e5117d0b-45d9-40d5-bb71-88fe6d906264\">\n",
              "  <button class=\"colab-df-quickchart\" onclick=\"quickchart('df-e5117d0b-45d9-40d5-bb71-88fe6d906264')\"\n",
              "            title=\"Suggest charts\"\n",
              "            style=\"display:none;\">\n",
              "\n",
              "<svg xmlns=\"http://www.w3.org/2000/svg\" height=\"24px\"viewBox=\"0 0 24 24\"\n",
              "     width=\"24px\">\n",
              "    <g>\n",
              "        <path d=\"M19 3H5c-1.1 0-2 .9-2 2v14c0 1.1.9 2 2 2h14c1.1 0 2-.9 2-2V5c0-1.1-.9-2-2-2zM9 17H7v-7h2v7zm4 0h-2V7h2v10zm4 0h-2v-4h2v4z\"/>\n",
              "    </g>\n",
              "</svg>\n",
              "  </button>\n",
              "\n",
              "<style>\n",
              "  .colab-df-quickchart {\n",
              "      --bg-color: #E8F0FE;\n",
              "      --fill-color: #1967D2;\n",
              "      --hover-bg-color: #E2EBFA;\n",
              "      --hover-fill-color: #174EA6;\n",
              "      --disabled-fill-color: #AAA;\n",
              "      --disabled-bg-color: #DDD;\n",
              "  }\n",
              "\n",
              "  [theme=dark] .colab-df-quickchart {\n",
              "      --bg-color: #3B4455;\n",
              "      --fill-color: #D2E3FC;\n",
              "      --hover-bg-color: #434B5C;\n",
              "      --hover-fill-color: #FFFFFF;\n",
              "      --disabled-bg-color: #3B4455;\n",
              "      --disabled-fill-color: #666;\n",
              "  }\n",
              "\n",
              "  .colab-df-quickchart {\n",
              "    background-color: var(--bg-color);\n",
              "    border: none;\n",
              "    border-radius: 50%;\n",
              "    cursor: pointer;\n",
              "    display: none;\n",
              "    fill: var(--fill-color);\n",
              "    height: 32px;\n",
              "    padding: 0;\n",
              "    width: 32px;\n",
              "  }\n",
              "\n",
              "  .colab-df-quickchart:hover {\n",
              "    background-color: var(--hover-bg-color);\n",
              "    box-shadow: 0 1px 2px rgba(60, 64, 67, 0.3), 0 1px 3px 1px rgba(60, 64, 67, 0.15);\n",
              "    fill: var(--button-hover-fill-color);\n",
              "  }\n",
              "\n",
              "  .colab-df-quickchart-complete:disabled,\n",
              "  .colab-df-quickchart-complete:disabled:hover {\n",
              "    background-color: var(--disabled-bg-color);\n",
              "    fill: var(--disabled-fill-color);\n",
              "    box-shadow: none;\n",
              "  }\n",
              "\n",
              "  .colab-df-spinner {\n",
              "    border: 2px solid var(--fill-color);\n",
              "    border-color: transparent;\n",
              "    border-bottom-color: var(--fill-color);\n",
              "    animation:\n",
              "      spin 1s steps(1) infinite;\n",
              "  }\n",
              "\n",
              "  @keyframes spin {\n",
              "    0% {\n",
              "      border-color: transparent;\n",
              "      border-bottom-color: var(--fill-color);\n",
              "      border-left-color: var(--fill-color);\n",
              "    }\n",
              "    20% {\n",
              "      border-color: transparent;\n",
              "      border-left-color: var(--fill-color);\n",
              "      border-top-color: var(--fill-color);\n",
              "    }\n",
              "    30% {\n",
              "      border-color: transparent;\n",
              "      border-left-color: var(--fill-color);\n",
              "      border-top-color: var(--fill-color);\n",
              "      border-right-color: var(--fill-color);\n",
              "    }\n",
              "    40% {\n",
              "      border-color: transparent;\n",
              "      border-right-color: var(--fill-color);\n",
              "      border-top-color: var(--fill-color);\n",
              "    }\n",
              "    60% {\n",
              "      border-color: transparent;\n",
              "      border-right-color: var(--fill-color);\n",
              "    }\n",
              "    80% {\n",
              "      border-color: transparent;\n",
              "      border-right-color: var(--fill-color);\n",
              "      border-bottom-color: var(--fill-color);\n",
              "    }\n",
              "    90% {\n",
              "      border-color: transparent;\n",
              "      border-bottom-color: var(--fill-color);\n",
              "    }\n",
              "  }\n",
              "</style>\n",
              "\n",
              "  <script>\n",
              "    async function quickchart(key) {\n",
              "      const quickchartButtonEl =\n",
              "        document.querySelector('#' + key + ' button');\n",
              "      quickchartButtonEl.disabled = true;  // To prevent multiple clicks.\n",
              "      quickchartButtonEl.classList.add('colab-df-spinner');\n",
              "      try {\n",
              "        const charts = await google.colab.kernel.invokeFunction(\n",
              "            'suggestCharts', [key], {});\n",
              "      } catch (error) {\n",
              "        console.error('Error during call to suggestCharts:', error);\n",
              "      }\n",
              "      quickchartButtonEl.classList.remove('colab-df-spinner');\n",
              "      quickchartButtonEl.classList.add('colab-df-quickchart-complete');\n",
              "    }\n",
              "    (() => {\n",
              "      let quickchartButtonEl =\n",
              "        document.querySelector('#df-e5117d0b-45d9-40d5-bb71-88fe6d906264 button');\n",
              "      quickchartButtonEl.style.display =\n",
              "        google.colab.kernel.accessAllowed ? 'block' : 'none';\n",
              "    })();\n",
              "  </script>\n",
              "</div>\n",
              "    </div>\n",
              "  </div>\n"
            ],
            "application/vnd.google.colaboratory.intrinsic+json": {
              "type": "dataframe",
              "variable_name": "df_nuevo_genero_test",
              "summary": "{\n  \"name\": \"df_nuevo_genero_test\",\n  \"rows\": 10,\n  \"fields\": [\n    {\n      \"column\": \"NOMBRE\",\n      \"properties\": {\n        \"dtype\": \"string\",\n        \"num_unique_values\": 10,\n        \"samples\": [\n          \"VERA ZAMBRANO, CARLOS ANDR\\u00c9S\",\n          \"VALLEJO ARTEAGA, ELENA CAROLINA\",\n          \"RAMIREZ VILLACIS, SOFIA ALEJANDRA\"\n        ],\n        \"semantic_type\": \"\",\n        \"description\": \"\"\n      }\n    },\n    {\n      \"column\": \"GENERO\",\n      \"properties\": {\n        \"dtype\": \"category\",\n        \"num_unique_values\": 2,\n        \"samples\": [\n          \"M\",\n          \"H\"\n        ],\n        \"semantic_type\": \"\",\n        \"description\": \"\"\n      }\n    },\n    {\n      \"column\": \"Apellidos\",\n      \"properties\": {\n        \"dtype\": \"string\",\n        \"num_unique_values\": 10,\n        \"samples\": [\n          \"VERA ZAMBRANO\",\n          \"VALLEJO ARTEAGA\"\n        ],\n        \"semantic_type\": \"\",\n        \"description\": \"\"\n      }\n    },\n    {\n      \"column\": \"Nombres\",\n      \"properties\": {\n        \"dtype\": \"string\",\n        \"num_unique_values\": 10,\n        \"samples\": [\n          \" CARLOS ANDR\\u00c9S\",\n          \" ELENA CAROLINA\"\n        ],\n        \"semantic_type\": \"\",\n        \"description\": \"\"\n      }\n    }\n  ]\n}"
            }
          },
          "metadata": {},
          "execution_count": 17
        }
      ]
    },
    {
      "cell_type": "code",
      "source": [
        "# Guardar el nuevo DataFrame en un nuevo archivo Excel\n",
        "df_nuevo_genero_test.to_excel(f\"./TABLA_GENEROS_PREDECIDOS.xlsx\", index=False)"
      ],
      "metadata": {
        "id": "ilhK03svu53S"
      },
      "execution_count": 18,
      "outputs": []
    },
    {
      "cell_type": "markdown",
      "source": [
        "# **3. Pruebas del modelo entrenado**"
      ],
      "metadata": {
        "id": "vt07EethnMYe"
      }
    },
    {
      "cell_type": "code",
      "source": [
        "# Realizar una solicitud GET al archivo del modelo en el repositorio\n",
        "response_modelo = requests.get(model_genre)\n",
        "\n",
        "# Verificar el estado de la respuesta\n",
        "if response_modelo.status_code == 200:\n",
        "    # La solicitud fue exitosa, cargar el modelo desde el contenido descargado\n",
        "    loaded_model, loaded_vectorizer = joblib.load(BytesIO(response_modelo.content))\n",
        "    print(\"Modelo cargado exitosamente.\")\n",
        "else:\n",
        "    # La solicitud falló, imprimir el código de estado de la respuesta\n",
        "    print(\"Error al obtener el modelo:\", response_modelo.status_code)"
      ],
      "metadata": {
        "colab": {
          "base_uri": "https://localhost:8080/"
        },
        "id": "x-p3X4JtnKIG",
        "outputId": "480597b1-0e0d-4115-811f-7a9c2feb4294"
      },
      "execution_count": 20,
      "outputs": [
        {
          "output_type": "stream",
          "name": "stdout",
          "text": [
            "Modelo cargado exitosamente.\n"
          ]
        }
      ]
    },
    {
      "cell_type": "code",
      "source": [
        "# Obtener matriz de generos\n",
        "df_nuevo_genero_test = df_genero_test.copy()\n",
        "\n",
        "# Extracción de características utilizando el CountVectorizer cargado\n",
        "X_nuevo = loaded_vectorizer.transform(df_nuevo_genero_test['NOMBRE'])\n",
        "\n",
        "# Realizar predicciones usando el modelo cargado\n",
        "predicciones_nuevo = loaded_model.predict(X_nuevo)\n",
        "\n",
        "# Asignar las predicciones a la columna 'GENERO' de la nueva matriz\n",
        "df_nuevo_genero_test['GENERO'] = predicciones_nuevo\n",
        "\n",
        "# Mapear las predicciones de nuevo a 'H' para hombre y 'M' para mujer\n",
        "df_nuevo_genero_test['GENERO'] = df_nuevo_genero_test['GENERO'].map({1: 'H', 0: 'M'})\n",
        "\n",
        "# Imprimir la nueva matriz con las predicciones de género\n",
        "print(df_nuevo_genero_test)\n"
      ],
      "metadata": {
        "colab": {
          "base_uri": "https://localhost:8080/"
        },
        "id": "JJBjot7vqmZ2",
        "outputId": "eaa033fd-0a43-43af-9dac-7b3c3e1594ae"
      },
      "execution_count": 21,
      "outputs": [
        {
          "output_type": "stream",
          "name": "stdout",
          "text": [
            "                              NOMBRE GENERO\n",
            "0     ORDOÑEZ SOLIS, ANDRÉS SANTIAGO      H\n",
            "1    VALLEJO ARTEAGA, ELENA CAROLINA      M\n",
            "2     GUERRERO LOZADA, MARCO ANTONIO      H\n",
            "3      BRAVO ESPINOZA, DANIELA PAOLA      M\n",
            "4  SÁNCHEZ MENDOZA, FABIAN ALEJANDRO      H\n",
            "5  RAMIREZ VILLACIS, SOFIA ALEJANDRA      M\n",
            "6         MORENO AGUILAR, JORGE LUIS      H\n",
            "7  JIMENEZ CARRIÓN, CLAUDIA PATRICIA      M\n",
            "8       VERA ZAMBRANO, CARLOS ANDRÉS      H\n",
            "9      TORRES PONCE, LUCIA MARGARITA      M\n"
          ]
        }
      ]
    },
    {
      "cell_type": "code",
      "source": [
        "# Obtener matriz de generos\n",
        "# df_nuevo_genero_test_uno = ['CASTILLO ZAMBRANO, GEMA GABRIE']\n",
        "df_nuevo_genero_test_uno = ['CASTILLO ZAMBRANO, MARON OMAR']\n",
        "\n",
        "# X_nuevo_uno = loaded_vectorizer.transform(['MARON OMAR'])\n",
        "X_nuevo_uno = loaded_vectorizer.transform(df_nuevo_genero_test_uno)\n",
        "\n",
        "predicciones_nuevo_uno = loaded_model.predict(X_nuevo_uno)\n",
        "\n",
        "# Imprimir la predicción\n",
        "genero_predicho_uno = 'Hombre' if predicciones_nuevo_uno[0] == 1 else 'Mujer'\n",
        "print(f\"El nombre '{df_nuevo_genero_test_uno[0]}' se predice como {genero_predicho_uno}.\")"
      ],
      "metadata": {
        "colab": {
          "base_uri": "https://localhost:8080/"
        },
        "id": "JVpO9tRIw4cE",
        "outputId": "9b4db48b-101e-4278-bd7f-5a9cb734e1f4"
      },
      "execution_count": 22,
      "outputs": [
        {
          "output_type": "stream",
          "name": "stdout",
          "text": [
            "El nombre 'CASTILLO ZAMBRANO, MARON OMAR' se predice como Hombre.\n"
          ]
        }
      ]
    }
  ]
}